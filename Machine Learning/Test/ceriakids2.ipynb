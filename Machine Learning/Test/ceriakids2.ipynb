{
 "cells": [
  {
   "cell_type": "code",
   "execution_count": 1,
   "id": "56d2477f",
   "metadata": {
    "execution": {
     "iopub.execute_input": "2023-12-15T07:52:21.865743Z",
     "iopub.status.busy": "2023-12-15T07:52:21.864858Z",
     "iopub.status.idle": "2023-12-15T07:52:23.167853Z",
     "shell.execute_reply": "2023-12-15T07:52:23.166710Z"
    },
    "papermill": {
     "duration": 1.318366,
     "end_time": "2023-12-15T07:52:23.170777",
     "exception": false,
     "start_time": "2023-12-15T07:52:21.852411",
     "status": "completed"
    },
    "tags": []
   },
   "outputs": [],
   "source": [
    "import numpy as np\n",
    "import pandas as pd\n",
    "import matplotlib.pyplot as plt\n",
    "import seaborn as sns"
   ]
  },
  {
   "cell_type": "markdown",
   "id": "136c49ac",
   "metadata": {
    "papermill": {
     "duration": 0.010747,
     "end_time": "2023-12-15T07:52:23.192682",
     "exception": false,
     "start_time": "2023-12-15T07:52:23.181935",
     "status": "completed"
    },
    "tags": []
   },
   "source": [
    "## Load Dataset"
   ]
  },
  {
   "cell_type": "code",
   "execution_count": 2,
   "id": "e545501d",
   "metadata": {
    "execution": {
     "iopub.execute_input": "2023-12-15T07:52:23.216519Z",
     "iopub.status.busy": "2023-12-15T07:52:23.216088Z",
     "iopub.status.idle": "2023-12-15T07:52:23.922241Z",
     "shell.execute_reply": "2023-12-15T07:52:23.920895Z"
    },
    "papermill": {
     "duration": 0.721121,
     "end_time": "2023-12-15T07:52:23.924841",
     "exception": false,
     "start_time": "2023-12-15T07:52:23.203720",
     "status": "completed"
    },
    "tags": []
   },
   "outputs": [
    {
     "data": {
      "text/html": [
       "<div>\n",
       "<style scoped>\n",
       "    .dataframe tbody tr th:only-of-type {\n",
       "        vertical-align: middle;\n",
       "    }\n",
       "\n",
       "    .dataframe tbody tr th {\n",
       "        vertical-align: top;\n",
       "    }\n",
       "\n",
       "    .dataframe thead th {\n",
       "        text-align: right;\n",
       "    }\n",
       "</style>\n",
       "<table border=\"1\" class=\"dataframe\">\n",
       "  <thead>\n",
       "    <tr style=\"text-align: right;\">\n",
       "      <th></th>\n",
       "      <th>KodeSampel</th>\n",
       "      <th>NamaBaduta</th>\n",
       "      <th>JenisKelamin</th>\n",
       "      <th>UmurBaduta</th>\n",
       "      <th>PBSekarang</th>\n",
       "      <th>BBSekarang</th>\n",
       "      <th>ZscoreBBU</th>\n",
       "      <th>ZscorePBU</th>\n",
       "      <th>ZscoreBBPB</th>\n",
       "      <th>ZscoreIMTU</th>\n",
       "      <th>Status_ZscoreBBU</th>\n",
       "      <th>Status_ZscorePBU</th>\n",
       "      <th>Status_ZscoreBBPB</th>\n",
       "      <th>Status_ZscoreIMTU</th>\n",
       "      <th>Status</th>\n",
       "    </tr>\n",
       "  </thead>\n",
       "  <tbody>\n",
       "    <tr>\n",
       "      <th>0</th>\n",
       "      <td>1101.0</td>\n",
       "      <td>Hana Nur Azizah</td>\n",
       "      <td>2.0</td>\n",
       "      <td>8.0</td>\n",
       "      <td>60.3</td>\n",
       "      <td>8.3</td>\n",
       "      <td>1.69</td>\n",
       "      <td>0.11</td>\n",
       "      <td>-2.06</td>\n",
       "      <td>1.75</td>\n",
       "      <td>2.0</td>\n",
       "      <td>2.0</td>\n",
       "      <td>3.0</td>\n",
       "      <td>2.0</td>\n",
       "      <td>tidak stunting</td>\n",
       "    </tr>\n",
       "    <tr>\n",
       "      <th>1</th>\n",
       "      <td>1102.0</td>\n",
       "      <td>Aqila Shakuena Humaira</td>\n",
       "      <td>2.0</td>\n",
       "      <td>13.0</td>\n",
       "      <td>80.1</td>\n",
       "      <td>9.7</td>\n",
       "      <td>0.46</td>\n",
       "      <td>1.87</td>\n",
       "      <td>0.47</td>\n",
       "      <td>-0.82</td>\n",
       "      <td>2.0</td>\n",
       "      <td>2.0</td>\n",
       "      <td>2.0</td>\n",
       "      <td>3.0</td>\n",
       "      <td>tidak stunting</td>\n",
       "    </tr>\n",
       "    <tr>\n",
       "      <th>2</th>\n",
       "      <td>1103.0</td>\n",
       "      <td>Altan Artanabil Setiawan</td>\n",
       "      <td>1.0</td>\n",
       "      <td>9.0</td>\n",
       "      <td>75.0</td>\n",
       "      <td>8.6</td>\n",
       "      <td>0.34</td>\n",
       "      <td>1.95</td>\n",
       "      <td>-0.70</td>\n",
       "      <td>-1.02</td>\n",
       "      <td>2.0</td>\n",
       "      <td>2.0</td>\n",
       "      <td>2.0</td>\n",
       "      <td>4.0</td>\n",
       "      <td>stunting</td>\n",
       "    </tr>\n",
       "    <tr>\n",
       "      <th>3</th>\n",
       "      <td>1104.0</td>\n",
       "      <td>Adrian Pradita Maspuri</td>\n",
       "      <td>1.0</td>\n",
       "      <td>23.0</td>\n",
       "      <td>87.0</td>\n",
       "      <td>11.0</td>\n",
       "      <td>-0.13</td>\n",
       "      <td>-0.59</td>\n",
       "      <td>-0.72</td>\n",
       "      <td>-0.73</td>\n",
       "      <td>2.0</td>\n",
       "      <td>2.0</td>\n",
       "      <td>2.0</td>\n",
       "      <td>3.0</td>\n",
       "      <td>tidak stunting</td>\n",
       "    </tr>\n",
       "    <tr>\n",
       "      <th>4</th>\n",
       "      <td>1105.0</td>\n",
       "      <td>Yaqis Hagata</td>\n",
       "      <td>1.0</td>\n",
       "      <td>8.0</td>\n",
       "      <td>86.3</td>\n",
       "      <td>8.1</td>\n",
       "      <td>-0.24</td>\n",
       "      <td>-0.91</td>\n",
       "      <td>-0.89</td>\n",
       "      <td>-1.06</td>\n",
       "      <td>2.0</td>\n",
       "      <td>2.0</td>\n",
       "      <td>2.0</td>\n",
       "      <td>3.0</td>\n",
       "      <td>tidak stunting</td>\n",
       "    </tr>\n",
       "  </tbody>\n",
       "</table>\n",
       "</div>"
      ],
      "text/plain": [
       "   KodeSampel                NamaBaduta  JenisKelamin  UmurBaduta  PBSekarang  \\\n",
       "0      1101.0           Hana Nur Azizah           2.0         8.0        60.3   \n",
       "1      1102.0    Aqila Shakuena Humaira           2.0        13.0        80.1   \n",
       "2      1103.0  Altan Artanabil Setiawan           1.0         9.0        75.0   \n",
       "3      1104.0    Adrian Pradita Maspuri           1.0        23.0        87.0   \n",
       "4      1105.0              Yaqis Hagata           1.0         8.0        86.3   \n",
       "\n",
       "   BBSekarang  ZscoreBBU  ZscorePBU  ZscoreBBPB  ZscoreIMTU  Status_ZscoreBBU  \\\n",
       "0         8.3       1.69       0.11       -2.06        1.75               2.0   \n",
       "1         9.7       0.46       1.87        0.47       -0.82               2.0   \n",
       "2         8.6       0.34       1.95       -0.70       -1.02               2.0   \n",
       "3        11.0      -0.13      -0.59       -0.72       -0.73               2.0   \n",
       "4         8.1      -0.24      -0.91       -0.89       -1.06               2.0   \n",
       "\n",
       "   Status_ZscorePBU  Status_ZscoreBBPB  Status_ZscoreIMTU          Status  \n",
       "0               2.0                3.0                2.0  tidak stunting  \n",
       "1               2.0                2.0                3.0  tidak stunting  \n",
       "2               2.0                2.0                4.0        stunting  \n",
       "3               2.0                2.0                3.0  tidak stunting  \n",
       "4               2.0                2.0                3.0  tidak stunting  "
      ]
     },
     "execution_count": 2,
     "metadata": {},
     "output_type": "execute_result"
    }
   ],
   "source": [
    "child_data = pd.read_excel('./Dataset_CeriaKids/Data Balita Jakarta.xlsx')\n",
    "child_data.head()"
   ]
  },
  {
   "cell_type": "code",
   "execution_count": 3,
   "id": "cdd29503",
   "metadata": {
    "execution": {
     "iopub.execute_input": "2023-12-15T07:52:23.949877Z",
     "iopub.status.busy": "2023-12-15T07:52:23.949209Z",
     "iopub.status.idle": "2023-12-15T07:52:23.959134Z",
     "shell.execute_reply": "2023-12-15T07:52:23.957933Z"
    },
    "papermill": {
     "duration": 0.025287,
     "end_time": "2023-12-15T07:52:23.961836",
     "exception": false,
     "start_time": "2023-12-15T07:52:23.936549",
     "status": "completed"
    },
    "tags": []
   },
   "outputs": [
    {
     "data": {
      "text/plain": [
       "KodeSampel           7\n",
       "NamaBaduta           7\n",
       "JenisKelamin         7\n",
       "UmurBaduta           7\n",
       "PBSekarang           7\n",
       "BBSekarang           7\n",
       "ZscoreBBU            7\n",
       "ZscorePBU            7\n",
       "ZscoreBBPB           7\n",
       "ZscoreIMTU           7\n",
       "Status_ZscoreBBU     7\n",
       "Status_ZscorePBU     7\n",
       "Status_ZscoreBBPB    8\n",
       "Status_ZscoreIMTU    7\n",
       "Status               7\n",
       "dtype: int64"
      ]
     },
     "execution_count": 3,
     "metadata": {},
     "output_type": "execute_result"
    }
   ],
   "source": [
    "child_data.isnull().sum()"
   ]
  },
  {
   "cell_type": "code",
   "execution_count": 4,
   "id": "dd178c9a",
   "metadata": {
    "execution": {
     "iopub.execute_input": "2023-12-15T07:52:23.986913Z",
     "iopub.status.busy": "2023-12-15T07:52:23.986528Z",
     "iopub.status.idle": "2023-12-15T07:52:23.994316Z",
     "shell.execute_reply": "2023-12-15T07:52:23.993516Z"
    },
    "papermill": {
     "duration": 0.023016,
     "end_time": "2023-12-15T07:52:23.996548",
     "exception": false,
     "start_time": "2023-12-15T07:52:23.973532",
     "status": "completed"
    },
    "tags": []
   },
   "outputs": [],
   "source": [
    "child_data.dropna(axis = 0, inplace = True)"
   ]
  },
  {
   "cell_type": "code",
   "execution_count": 5,
   "id": "2c9687a8",
   "metadata": {
    "execution": {
     "iopub.execute_input": "2023-12-15T07:52:24.021311Z",
     "iopub.status.busy": "2023-12-15T07:52:24.020925Z",
     "iopub.status.idle": "2023-12-15T07:52:24.030797Z",
     "shell.execute_reply": "2023-12-15T07:52:24.029674Z"
    },
    "papermill": {
     "duration": 0.025048,
     "end_time": "2023-12-15T07:52:24.033146",
     "exception": false,
     "start_time": "2023-12-15T07:52:24.008098",
     "status": "completed"
    },
    "tags": []
   },
   "outputs": [],
   "source": [
    "child_data.drop(['NamaBaduta'], axis = 1, inplace = True)"
   ]
  },
  {
   "cell_type": "code",
   "execution_count": 6,
   "id": "10f383dd",
   "metadata": {
    "execution": {
     "iopub.execute_input": "2023-12-15T07:52:24.058182Z",
     "iopub.status.busy": "2023-12-15T07:52:24.057534Z",
     "iopub.status.idle": "2023-12-15T07:52:24.064193Z",
     "shell.execute_reply": "2023-12-15T07:52:24.063173Z"
    },
    "papermill": {
     "duration": 0.02186,
     "end_time": "2023-12-15T07:52:24.066533",
     "exception": false,
     "start_time": "2023-12-15T07:52:24.044673",
     "status": "completed"
    },
    "tags": []
   },
   "outputs": [
    {
     "data": {
      "text/plain": [
       "(546, 14)"
      ]
     },
     "execution_count": 6,
     "metadata": {},
     "output_type": "execute_result"
    }
   ],
   "source": [
    "child_data.shape"
   ]
  },
  {
   "cell_type": "code",
   "execution_count": 7,
   "id": "356dfca5",
   "metadata": {
    "execution": {
     "iopub.execute_input": "2023-12-15T07:52:24.091921Z",
     "iopub.status.busy": "2023-12-15T07:52:24.091243Z",
     "iopub.status.idle": "2023-12-15T07:52:24.113623Z",
     "shell.execute_reply": "2023-12-15T07:52:24.112462Z"
    },
    "papermill": {
     "duration": 0.038395,
     "end_time": "2023-12-15T07:52:24.116452",
     "exception": false,
     "start_time": "2023-12-15T07:52:24.078057",
     "status": "completed"
    },
    "tags": []
   },
   "outputs": [
    {
     "name": "stdout",
     "output_type": "stream",
     "text": [
      "<class 'pandas.core.frame.DataFrame'>\n",
      "Index: 546 entries, 0 to 553\n",
      "Data columns (total 14 columns):\n",
      " #   Column             Non-Null Count  Dtype  \n",
      "---  ------             --------------  -----  \n",
      " 0   KodeSampel         546 non-null    float64\n",
      " 1   JenisKelamin       546 non-null    float64\n",
      " 2   UmurBaduta         546 non-null    float64\n",
      " 3   PBSekarang         546 non-null    float64\n",
      " 4   BBSekarang         546 non-null    float64\n",
      " 5   ZscoreBBU          546 non-null    float64\n",
      " 6   ZscorePBU          546 non-null    float64\n",
      " 7   ZscoreBBPB         546 non-null    float64\n",
      " 8   ZscoreIMTU         546 non-null    float64\n",
      " 9   Status_ZscoreBBU   546 non-null    float64\n",
      " 10  Status_ZscorePBU   546 non-null    float64\n",
      " 11  Status_ZscoreBBPB  546 non-null    float64\n",
      " 12  Status_ZscoreIMTU  546 non-null    float64\n",
      " 13  Status             546 non-null    object \n",
      "dtypes: float64(13), object(1)\n",
      "memory usage: 64.0+ KB\n"
     ]
    }
   ],
   "source": [
    "child_data.info()"
   ]
  },
  {
   "cell_type": "code",
   "execution_count": 8,
   "id": "580b4bb1",
   "metadata": {
    "execution": {
     "iopub.execute_input": "2023-12-15T07:52:24.141887Z",
     "iopub.status.busy": "2023-12-15T07:52:24.141503Z",
     "iopub.status.idle": "2023-12-15T07:52:24.196591Z",
     "shell.execute_reply": "2023-12-15T07:52:24.195456Z"
    },
    "papermill": {
     "duration": 0.070965,
     "end_time": "2023-12-15T07:52:24.199283",
     "exception": false,
     "start_time": "2023-12-15T07:52:24.128318",
     "status": "completed"
    },
    "tags": []
   },
   "outputs": [
    {
     "data": {
      "text/html": [
       "<div>\n",
       "<style scoped>\n",
       "    .dataframe tbody tr th:only-of-type {\n",
       "        vertical-align: middle;\n",
       "    }\n",
       "\n",
       "    .dataframe tbody tr th {\n",
       "        vertical-align: top;\n",
       "    }\n",
       "\n",
       "    .dataframe thead th {\n",
       "        text-align: right;\n",
       "    }\n",
       "</style>\n",
       "<table border=\"1\" class=\"dataframe\">\n",
       "  <thead>\n",
       "    <tr style=\"text-align: right;\">\n",
       "      <th></th>\n",
       "      <th>KodeSampel</th>\n",
       "      <th>JenisKelamin</th>\n",
       "      <th>UmurBaduta</th>\n",
       "      <th>PBSekarang</th>\n",
       "      <th>BBSekarang</th>\n",
       "      <th>ZscoreBBU</th>\n",
       "      <th>ZscorePBU</th>\n",
       "      <th>ZscoreBBPB</th>\n",
       "      <th>ZscoreIMTU</th>\n",
       "      <th>Status_ZscoreBBU</th>\n",
       "      <th>Status_ZscorePBU</th>\n",
       "      <th>Status_ZscoreBBPB</th>\n",
       "      <th>Status_ZscoreIMTU</th>\n",
       "    </tr>\n",
       "  </thead>\n",
       "  <tbody>\n",
       "    <tr>\n",
       "      <th>count</th>\n",
       "      <td>546.000000</td>\n",
       "      <td>546.000000</td>\n",
       "      <td>546.000000</td>\n",
       "      <td>546.000000</td>\n",
       "      <td>546.000000</td>\n",
       "      <td>546.000000</td>\n",
       "      <td>546.000000</td>\n",
       "      <td>546.000000</td>\n",
       "      <td>546.000000</td>\n",
       "      <td>546.000000</td>\n",
       "      <td>546.000000</td>\n",
       "      <td>546.000000</td>\n",
       "      <td>546.000000</td>\n",
       "    </tr>\n",
       "    <tr>\n",
       "      <th>mean</th>\n",
       "      <td>4697.967033</td>\n",
       "      <td>1.472527</td>\n",
       "      <td>13.747253</td>\n",
       "      <td>76.288828</td>\n",
       "      <td>9.351374</td>\n",
       "      <td>-0.633260</td>\n",
       "      <td>-0.764542</td>\n",
       "      <td>-0.286663</td>\n",
       "      <td>-0.176617</td>\n",
       "      <td>2.161172</td>\n",
       "      <td>2.271062</td>\n",
       "      <td>2.124542</td>\n",
       "      <td>3.005495</td>\n",
       "    </tr>\n",
       "    <tr>\n",
       "      <th>std</th>\n",
       "      <td>2379.728291</td>\n",
       "      <td>0.499703</td>\n",
       "      <td>7.385471</td>\n",
       "      <td>6.977187</td>\n",
       "      <td>1.618087</td>\n",
       "      <td>1.167613</td>\n",
       "      <td>1.690980</td>\n",
       "      <td>1.308059</td>\n",
       "      <td>1.410903</td>\n",
       "      <td>0.427960</td>\n",
       "      <td>0.643789</td>\n",
       "      <td>0.405311</td>\n",
       "      <td>0.573071</td>\n",
       "    </tr>\n",
       "    <tr>\n",
       "      <th>min</th>\n",
       "      <td>1101.000000</td>\n",
       "      <td>1.000000</td>\n",
       "      <td>1.000000</td>\n",
       "      <td>60.000000</td>\n",
       "      <td>5.500000</td>\n",
       "      <td>-4.350000</td>\n",
       "      <td>-5.360000</td>\n",
       "      <td>-5.230000</td>\n",
       "      <td>-5.910000</td>\n",
       "      <td>1.000000</td>\n",
       "      <td>1.000000</td>\n",
       "      <td>1.000000</td>\n",
       "      <td>1.000000</td>\n",
       "    </tr>\n",
       "    <tr>\n",
       "      <th>25%</th>\n",
       "      <td>2157.250000</td>\n",
       "      <td>1.000000</td>\n",
       "      <td>9.000000</td>\n",
       "      <td>71.000000</td>\n",
       "      <td>8.200000</td>\n",
       "      <td>-1.340000</td>\n",
       "      <td>-1.820000</td>\n",
       "      <td>-1.195000</td>\n",
       "      <td>-1.037500</td>\n",
       "      <td>2.000000</td>\n",
       "      <td>2.000000</td>\n",
       "      <td>2.000000</td>\n",
       "      <td>3.000000</td>\n",
       "    </tr>\n",
       "    <tr>\n",
       "      <th>50%</th>\n",
       "      <td>5101.500000</td>\n",
       "      <td>1.000000</td>\n",
       "      <td>13.000000</td>\n",
       "      <td>75.700000</td>\n",
       "      <td>9.300000</td>\n",
       "      <td>-0.700000</td>\n",
       "      <td>-0.840000</td>\n",
       "      <td>-0.240000</td>\n",
       "      <td>-0.175000</td>\n",
       "      <td>2.000000</td>\n",
       "      <td>2.000000</td>\n",
       "      <td>2.000000</td>\n",
       "      <td>3.000000</td>\n",
       "    </tr>\n",
       "    <tr>\n",
       "      <th>75%</th>\n",
       "      <td>7113.750000</td>\n",
       "      <td>2.000000</td>\n",
       "      <td>20.000000</td>\n",
       "      <td>81.000000</td>\n",
       "      <td>10.300000</td>\n",
       "      <td>0.160000</td>\n",
       "      <td>0.190000</td>\n",
       "      <td>0.610000</td>\n",
       "      <td>0.775000</td>\n",
       "      <td>2.000000</td>\n",
       "      <td>2.000000</td>\n",
       "      <td>2.000000</td>\n",
       "      <td>3.000000</td>\n",
       "    </tr>\n",
       "    <tr>\n",
       "      <th>max</th>\n",
       "      <td>8180.000000</td>\n",
       "      <td>2.000000</td>\n",
       "      <td>37.000000</td>\n",
       "      <td>104.000000</td>\n",
       "      <td>16.500000</td>\n",
       "      <td>2.640000</td>\n",
       "      <td>5.730000</td>\n",
       "      <td>4.510000</td>\n",
       "      <td>3.930000</td>\n",
       "      <td>4.000000</td>\n",
       "      <td>4.000000</td>\n",
       "      <td>4.000000</td>\n",
       "      <td>5.000000</td>\n",
       "    </tr>\n",
       "  </tbody>\n",
       "</table>\n",
       "</div>"
      ],
      "text/plain": [
       "        KodeSampel  JenisKelamin  UmurBaduta  PBSekarang  BBSekarang  \\\n",
       "count   546.000000    546.000000  546.000000  546.000000  546.000000   \n",
       "mean   4697.967033      1.472527   13.747253   76.288828    9.351374   \n",
       "std    2379.728291      0.499703    7.385471    6.977187    1.618087   \n",
       "min    1101.000000      1.000000    1.000000   60.000000    5.500000   \n",
       "25%    2157.250000      1.000000    9.000000   71.000000    8.200000   \n",
       "50%    5101.500000      1.000000   13.000000   75.700000    9.300000   \n",
       "75%    7113.750000      2.000000   20.000000   81.000000   10.300000   \n",
       "max    8180.000000      2.000000   37.000000  104.000000   16.500000   \n",
       "\n",
       "        ZscoreBBU   ZscorePBU  ZscoreBBPB  ZscoreIMTU  Status_ZscoreBBU  \\\n",
       "count  546.000000  546.000000  546.000000  546.000000        546.000000   \n",
       "mean    -0.633260   -0.764542   -0.286663   -0.176617          2.161172   \n",
       "std      1.167613    1.690980    1.308059    1.410903          0.427960   \n",
       "min     -4.350000   -5.360000   -5.230000   -5.910000          1.000000   \n",
       "25%     -1.340000   -1.820000   -1.195000   -1.037500          2.000000   \n",
       "50%     -0.700000   -0.840000   -0.240000   -0.175000          2.000000   \n",
       "75%      0.160000    0.190000    0.610000    0.775000          2.000000   \n",
       "max      2.640000    5.730000    4.510000    3.930000          4.000000   \n",
       "\n",
       "       Status_ZscorePBU  Status_ZscoreBBPB  Status_ZscoreIMTU  \n",
       "count        546.000000         546.000000         546.000000  \n",
       "mean           2.271062           2.124542           3.005495  \n",
       "std            0.643789           0.405311           0.573071  \n",
       "min            1.000000           1.000000           1.000000  \n",
       "25%            2.000000           2.000000           3.000000  \n",
       "50%            2.000000           2.000000           3.000000  \n",
       "75%            2.000000           2.000000           3.000000  \n",
       "max            4.000000           4.000000           5.000000  "
      ]
     },
     "execution_count": 8,
     "metadata": {},
     "output_type": "execute_result"
    }
   ],
   "source": [
    "child_data.describe()"
   ]
  },
  {
   "cell_type": "markdown",
   "id": "e2a58b2b",
   "metadata": {
    "papermill": {
     "duration": 0.011808,
     "end_time": "2023-12-15T07:52:24.223514",
     "exception": false,
     "start_time": "2023-12-15T07:52:24.211706",
     "status": "completed"
    },
    "tags": []
   },
   "source": [
    "### Histogram"
   ]
  },
  {
   "cell_type": "code",
   "execution_count": 9,
   "id": "4d2629e8",
   "metadata": {
    "execution": {
     "iopub.execute_input": "2023-12-15T07:52:24.249899Z",
     "iopub.status.busy": "2023-12-15T07:52:24.249502Z",
     "iopub.status.idle": "2023-12-15T07:52:25.433905Z",
     "shell.execute_reply": "2023-12-15T07:52:25.432750Z"
    },
    "papermill": {
     "duration": 1.200846,
     "end_time": "2023-12-15T07:52:25.436494",
     "exception": false,
     "start_time": "2023-12-15T07:52:24.235648",
     "status": "completed"
    },
    "tags": []
   },
   "outputs": [
    {
     "data": {
      "image/png": "[encoded data removed]",
      "text/plain": [
       "<Figure size 1200x400 with 3 Axes>"
      ]
     },
     "metadata": {},
     "output_type": "display_data"
    }
   ],
   "source": [
    "# Create a figure with subplots\n",
    "fig, axes = plt.subplots(1, 3, figsize=(12, 4))\n",
    "\n",
    "# Distribution of Age\n",
    "sns.histplot(child_data['UmurBaduta'], bins=10, kde=True, ax=axes[0])\n",
    "axes[0].set_title('Distribution of Age')\n",
    "\n",
    "# Distribution of Weight\n",
    "sns.histplot(child_data['BBSekarang'], bins=10, kde=True, ax=axes[1])\n",
    "axes[1].set_title('Distribution of Weight')\n",
    "\n",
    "# Distribution of Height\n",
    "sns.histplot(child_data['PBSekarang'], bins=10, kde=True, ax=axes[2])\n",
    "axes[2].set_title('Distribution of Height')\n",
    "\n",
    "plt.tight_layout()\n",
    "plt.show()"
   ]
  },
  {
   "cell_type": "markdown",
   "id": "31e1cf1b",
   "metadata": {
    "papermill": {
     "duration": 0.013047,
     "end_time": "2023-12-15T07:52:25.462833",
     "exception": false,
     "start_time": "2023-12-15T07:52:25.449786",
     "status": "completed"
    },
    "tags": []
   },
   "source": [
    "### Scatter Plot"
   ]
  },
  {
   "cell_type": "code",
   "execution_count": 10,
   "id": "9528ef0e",
   "metadata": {
    "execution": {
     "iopub.execute_input": "2023-12-15T07:52:25.492165Z",
     "iopub.status.busy": "2023-12-15T07:52:25.491063Z",
     "iopub.status.idle": "2023-12-15T07:52:25.496069Z",
     "shell.execute_reply": "2023-12-15T07:52:25.495175Z"
    },
    "papermill": {
     "duration": 0.021826,
     "end_time": "2023-12-15T07:52:25.498278",
     "exception": false,
     "start_time": "2023-12-15T07:52:25.476452",
     "status": "completed"
    },
    "tags": []
   },
   "outputs": [],
   "source": [
    "colors = ['red', 'blue']\n",
    "status = ['tidak stunting', 'stunting']"
   ]
  },
  {
   "cell_type": "code",
   "execution_count": 11,
   "id": "ebe9df4e",
   "metadata": {
    "execution": {
     "iopub.execute_input": "2023-12-15T07:52:25.527081Z",
     "iopub.status.busy": "2023-12-15T07:52:25.526395Z",
     "iopub.status.idle": "2023-12-15T07:52:25.534310Z",
     "shell.execute_reply": "2023-12-15T07:52:25.533346Z"
    },
    "papermill": {
     "duration": 0.0247,
     "end_time": "2023-12-15T07:52:25.536462",
     "exception": false,
     "start_time": "2023-12-15T07:52:25.511762",
     "status": "completed"
    },
    "tags": []
   },
   "outputs": [
    {
     "data": {
      "text/plain": [
       "Status\n",
       "tidak stunting    487\n",
       "stunting           59\n",
       "Name: count, dtype: int64"
      ]
     },
     "execution_count": 11,
     "metadata": {},
     "output_type": "execute_result"
    }
   ],
   "source": [
    "child_data['Status'].value_counts()"
   ]
  },
  {
   "cell_type": "code",
   "execution_count": 12,
   "id": "5d41d7d3",
   "metadata": {
    "execution": {
     "iopub.execute_input": "2023-12-15T07:52:25.565803Z",
     "iopub.status.busy": "2023-12-15T07:52:25.565071Z",
     "iopub.status.idle": "2023-12-15T07:52:25.957472Z",
     "shell.execute_reply": "2023-12-15T07:52:25.956183Z"
    },
    "papermill": {
     "duration": 0.410189,
     "end_time": "2023-12-15T07:52:25.960181",
     "exception": false,
     "start_time": "2023-12-15T07:52:25.549992",
     "status": "completed"
    },
    "tags": []
   },
   "outputs": [
    {
     "data": {
      "text/plain": [
       "<matplotlib.legend.Legend at 0x25d3859ec70>"
      ]
     },
     "execution_count": 12,
     "metadata": {},
     "output_type": "execute_result"
    },
    {
     "data": {
      "image/png": "[encoded data removed]",
      "text/plain": [
       "<Figure size 640x480 with 1 Axes>"
      ]
     },
     "metadata": {},
     "output_type": "display_data"
    }
   ],
   "source": [
    "for i in range(len(colors)):\n",
    "    x = child_data[child_data['Status'] == status[i]]\n",
    "    plt.scatter(x['BBSekarang'], x['PBSekarang'], c = colors[i], label = status[i])\n",
    "\n",
    "plt.xlabel('Weight (kg)')\n",
    "plt.ylabel('Height (cm)')\n",
    "plt.legend()"
   ]
  },
  {
   "cell_type": "code",
   "execution_count": 13,
   "id": "6e8ac981",
   "metadata": {
    "execution": {
     "iopub.execute_input": "2023-12-15T07:52:25.990210Z",
     "iopub.status.busy": "2023-12-15T07:52:25.989828Z",
     "iopub.status.idle": "2023-12-15T07:52:26.383673Z",
     "shell.execute_reply": "2023-12-15T07:52:26.382657Z"
    },
    "papermill": {
     "duration": 0.411813,
     "end_time": "2023-12-15T07:52:26.386146",
     "exception": false,
     "start_time": "2023-12-15T07:52:25.974333",
     "status": "completed"
    },
    "tags": []
   },
   "outputs": [
    {
     "data": {
      "text/plain": [
       "<matplotlib.legend.Legend at 0x25d7f3490a0>"
      ]
     },
     "execution_count": 13,
     "metadata": {},
     "output_type": "execute_result"
    },
    {
     "data": {
      "image/png": "[encoded data removed]",
      "text/plain": [
       "<Figure size 640x480 with 1 Axes>"
      ]
     },
     "metadata": {},
     "output_type": "display_data"
    }
   ],
   "source": [
    "for i in range(len(colors)):\n",
    "    x = child_data[child_data['Status'] == status[i]]\n",
    "    plt.scatter(x['UmurBaduta'], x['PBSekarang'], c = colors[i], label = status[i])\n",
    "\n",
    "plt.xlabel('Age')\n",
    "plt.ylabel('Height (cm)')\n",
    "plt.legend()"
   ]
  },
  {
   "cell_type": "code",
   "execution_count": 14,
   "id": "b64974e8",
   "metadata": {
    "execution": {
     "iopub.execute_input": "2023-12-15T07:52:26.419440Z",
     "iopub.status.busy": "2023-12-15T07:52:26.418704Z",
     "iopub.status.idle": "2023-12-15T07:52:26.848688Z",
     "shell.execute_reply": "2023-12-15T07:52:26.847654Z"
    },
    "papermill": {
     "duration": 0.449115,
     "end_time": "2023-12-15T07:52:26.851651",
     "exception": false,
     "start_time": "2023-12-15T07:52:26.402536",
     "status": "completed"
    },
    "tags": []
   },
   "outputs": [
    {
     "data": {
      "text/plain": [
       "<matplotlib.legend.Legend at 0x25d386383a0>"
      ]
     },
     "execution_count": 14,
     "metadata": {},
     "output_type": "execute_result"
    },
    {
     "data": {
      "image/png": "[encoded data removed]",
      "text/plain": [
       "<Figure size 640x480 with 1 Axes>"
      ]
     },
     "metadata": {},
     "output_type": "display_data"
    }
   ],
   "source": [
    "for i in range(len(colors)):\n",
    "    x = child_data[child_data['Status'] == status[i]]\n",
    "    plt.scatter(x['UmurBaduta'], x['BBSekarang'], c = colors[i], label = status[i])\n",
    "\n",
    "plt.xlabel('Age')\n",
    "plt.ylabel('Weight (kg)')\n",
    "plt.legend()"
   ]
  },
  {
   "cell_type": "markdown",
   "id": "11f16f2c",
   "metadata": {
    "papermill": {
     "duration": 0.019232,
     "end_time": "2023-12-15T07:52:26.891468",
     "exception": false,
     "start_time": "2023-12-15T07:52:26.872236",
     "status": "completed"
    },
    "tags": []
   },
   "source": [
    "## Correlation Matrix"
   ]
  },
  {
   "cell_type": "code",
   "execution_count": 15,
   "id": "627b24f7",
   "metadata": {
    "execution": {
     "iopub.execute_input": "2023-12-15T07:52:26.925800Z",
     "iopub.status.busy": "2023-12-15T07:52:26.924733Z",
     "iopub.status.idle": "2023-12-15T07:52:26.942712Z",
     "shell.execute_reply": "2023-12-15T07:52:26.940790Z"
    },
    "papermill": {
     "duration": 0.041921,
     "end_time": "2023-12-15T07:52:26.949496",
     "exception": false,
     "start_time": "2023-12-15T07:52:26.907575",
     "status": "completed"
    },
    "tags": []
   },
   "outputs": [
    {
     "data": {
      "text/html": [
       "<div>\n",
       "<style scoped>\n",
       "    .dataframe tbody tr th:only-of-type {\n",
       "        vertical-align: middle;\n",
       "    }\n",
       "\n",
       "    .dataframe tbody tr th {\n",
       "        vertical-align: top;\n",
       "    }\n",
       "\n",
       "    .dataframe thead th {\n",
       "        text-align: right;\n",
       "    }\n",
       "</style>\n",
       "<table border=\"1\" class=\"dataframe\">\n",
       "  <thead>\n",
       "    <tr style=\"text-align: right;\">\n",
       "      <th></th>\n",
       "      <th>UmurBaduta</th>\n",
       "      <th>PBSekarang</th>\n",
       "      <th>BBSekarang</th>\n",
       "    </tr>\n",
       "  </thead>\n",
       "  <tbody>\n",
       "    <tr>\n",
       "      <th>UmurBaduta</th>\n",
       "      <td>1.00000</td>\n",
       "      <td>0.514200</td>\n",
       "      <td>0.441090</td>\n",
       "    </tr>\n",
       "    <tr>\n",
       "      <th>PBSekarang</th>\n",
       "      <td>0.51420</td>\n",
       "      <td>1.000000</td>\n",
       "      <td>0.761038</td>\n",
       "    </tr>\n",
       "    <tr>\n",
       "      <th>BBSekarang</th>\n",
       "      <td>0.44109</td>\n",
       "      <td>0.761038</td>\n",
       "      <td>1.000000</td>\n",
       "    </tr>\n",
       "  </tbody>\n",
       "</table>\n",
       "</div>"
      ],
      "text/plain": [
       "            UmurBaduta  PBSekarang  BBSekarang\n",
       "UmurBaduta     1.00000    0.514200    0.441090\n",
       "PBSekarang     0.51420    1.000000    0.761038\n",
       "BBSekarang     0.44109    0.761038    1.000000"
      ]
     },
     "execution_count": 15,
     "metadata": {},
     "output_type": "execute_result"
    }
   ],
   "source": [
    "column = ['UmurBaduta', 'PBSekarang', 'BBSekarang']\n",
    "data = child_data[column]\n",
    "data.corr()\n",
    "\n",
    "# column = ['UmurBaduta','Status_ZscoreBBU', 'Status_ZscorePBU', 'Status_ZscoreBBPB', 'Status_ZscoreIMTU']\n",
    "# data = child_data[column]\n",
    "# data.corr()"
   ]
  },
  {
   "cell_type": "code",
   "execution_count": 16,
   "id": "f9d7f503",
   "metadata": {
    "execution": {
     "iopub.execute_input": "2023-12-15T07:52:26.983724Z",
     "iopub.status.busy": "2023-12-15T07:52:26.983069Z",
     "iopub.status.idle": "2023-12-15T07:52:27.337149Z",
     "shell.execute_reply": "2023-12-15T07:52:27.336294Z"
    },
    "papermill": {
     "duration": 0.373886,
     "end_time": "2023-12-15T07:52:27.339420",
     "exception": false,
     "start_time": "2023-12-15T07:52:26.965534",
     "status": "completed"
    },
    "tags": []
   },
   "outputs": [
    {
     "data": {
      "text/plain": [
       "<Axes: >"
      ]
     },
     "execution_count": 16,
     "metadata": {},
     "output_type": "execute_result"
    },
    {
     "data": {
      "image/png": "[encoded data removed]",
      "text/plain": [
       "<Figure size 600x600 with 2 Axes>"
      ]
     },
     "metadata": {},
     "output_type": "display_data"
    }
   ],
   "source": [
    "corr = data.corr()\n",
    "fig, ax = plt.subplots(figsize = (6, 6))\n",
    "sns.heatmap(corr, annot = True, ax = ax, cmap = 'coolwarm')"
   ]
  },
  {
   "cell_type": "code",
   "execution_count": 17,
   "id": "b8c18a17",
   "metadata": {},
   "outputs": [],
   "source": [
    "from sklearn.model_selection import train_test_split\n",
    "from sklearn.preprocessing import MinMaxScaler\n",
    "\n",
    "X = child_data[['UmurBaduta', 'PBSekarang', 'BBSekarang']]\n",
    "# X = child_data[['Status_ZscoreBBU', 'Status_ZscorePBU', 'Status_ZscoreBBPB', 'Status_ZscoreIMTU']]  # Pilih kolom fitur yang ingin Anda gunakan\n",
    "y = pd.get_dummies(child_data['Status'])  # Mengubah kolom Status menjadi one-hot encoded\n"
   ]
  },
  {
   "cell_type": "code",
   "execution_count": 18,
   "id": "ba191daa",
   "metadata": {},
   "outputs": [],
   "source": [
    "# Normalisasi data\n",
    "scaler = MinMaxScaler()\n",
    "X_normalized = scaler.fit_transform(X)"
   ]
  },
  {
   "cell_type": "code",
   "execution_count": 19,
   "id": "fadfe323",
   "metadata": {},
   "outputs": [],
   "source": [
    "# Pisahkan data latih dan data uji\n",
    "X_train, X_test, y_train, y_test = train_test_split(X_normalized, y, test_size=0.2, random_state=42)"
   ]
  },
  {
   "cell_type": "code",
   "execution_count": 20,
   "id": "745fa51b",
   "metadata": {},
   "outputs": [],
   "source": [
    "import tensorflow as tf\n",
    "\n",
    "# Membangun model neural network\n",
    "model = tf.keras.Sequential([\n",
    "    tf.keras.layers.Dense(64, activation='relu', input_shape = (X_train.shape[1],)),\n",
    "    tf.keras.layers.Dense(32, activation='relu'),\n",
    "    tf.keras.layers.Dense(y_train.shape[1], activation='sigmoid')\n",
    "])"
   ]
  },
  {
   "cell_type": "code",
   "execution_count": 21,
   "id": "937f151f",
   "metadata": {},
   "outputs": [],
   "source": [
    "# Compile model\n",
    "model.compile(optimizer='adam', loss='categorical_crossentropy', metrics=['accuracy'])"
   ]
  },
  {
   "cell_type": "code",
   "execution_count": 22,
   "id": "8cf3272b",
   "metadata": {},
   "outputs": [
    {
     "name": "stdout",
     "output_type": "stream",
     "text": [
      "Model: \"sequential\"\n",
      "_________________________________________________________________\n",
      " Layer (type)                Output Shape              Param #   \n",
      "=================================================================\n",
      " dense (Dense)               (None, 64)                256       \n",
      "                                                                 \n",
      " dense_1 (Dense)             (None, 32)                2080      \n",
      "                                                                 \n",
      " dense_2 (Dense)             (None, 2)                 66        \n",
      "                                                                 \n",
      "=================================================================\n",
      "Total params: 2402 (9.38 KB)\n",
      "Trainable params: 2402 (9.38 KB)\n",
      "Non-trainable params: 0 (0.00 Byte)\n",
      "_________________________________________________________________\n"
     ]
    }
   ],
   "source": [
    "model.summary()"
   ]
  },
  {
   "cell_type": "code",
   "execution_count": 23,
   "id": "1974cd0f",
   "metadata": {},
   "outputs": [
    {
     "name": "stdout",
     "output_type": "stream",
     "text": [
      "Epoch 1/40\n",
      "14/14 [==============================] - 1s 17ms/step - loss: 0.6022 - accuracy: 0.8853 - val_loss: 0.5220 - val_accuracy: 0.8818\n",
      "Epoch 2/40\n",
      "14/14 [==============================] - 0s 4ms/step - loss: 0.4736 - accuracy: 0.8945 - val_loss: 0.4271 - val_accuracy: 0.8818\n",
      "Epoch 3/40\n",
      "14/14 [==============================] - 0s 4ms/step - loss: 0.3872 - accuracy: 0.8945 - val_loss: 0.3766 - val_accuracy: 0.8818\n",
      "Epoch 4/40\n",
      "14/14 [==============================] - 0s 3ms/step - loss: 0.3459 - accuracy: 0.8945 - val_loss: 0.3648 - val_accuracy: 0.8818\n",
      "Epoch 5/40\n",
      "14/14 [==============================] - 0s 3ms/step - loss: 0.3358 - accuracy: 0.8945 - val_loss: 0.3650 - val_accuracy: 0.8818\n",
      "Epoch 6/40\n",
      "14/14 [==============================] - 0s 4ms/step - loss: 0.3336 - accuracy: 0.8945 - val_loss: 0.3608 - val_accuracy: 0.8818\n",
      "Epoch 7/40\n",
      "14/14 [==============================] - 0s 4ms/step - loss: 0.3303 - accuracy: 0.8945 - val_loss: 0.3554 - val_accuracy: 0.8818\n",
      "Epoch 8/40\n",
      "14/14 [==============================] - 0s 4ms/step - loss: 0.3279 - accuracy: 0.8945 - val_loss: 0.3492 - val_accuracy: 0.8818\n",
      "Epoch 9/40\n",
      "14/14 [==============================] - 0s 3ms/step - loss: 0.3243 - accuracy: 0.8945 - val_loss: 0.3465 - val_accuracy: 0.8818\n",
      "Epoch 10/40\n",
      "14/14 [==============================] - 0s 3ms/step - loss: 0.3184 - accuracy: 0.8945 - val_loss: 0.3376 - val_accuracy: 0.8818\n",
      "Epoch 11/40\n",
      "14/14 [==============================] - 0s 3ms/step - loss: 0.3164 - accuracy: 0.8945 - val_loss: 0.3325 - val_accuracy: 0.8818\n",
      "Epoch 12/40\n",
      "14/14 [==============================] - 0s 4ms/step - loss: 0.3132 - accuracy: 0.8945 - val_loss: 0.3281 - val_accuracy: 0.8818\n",
      "Epoch 13/40\n",
      "14/14 [==============================] - 0s 4ms/step - loss: 0.3080 - accuracy: 0.8945 - val_loss: 0.3235 - val_accuracy: 0.8818\n",
      "Epoch 14/40\n",
      "14/14 [==============================] - 0s 4ms/step - loss: 0.3046 - accuracy: 0.8945 - val_loss: 0.3181 - val_accuracy: 0.8818\n",
      "Epoch 15/40\n",
      "14/14 [==============================] - 0s 4ms/step - loss: 0.3015 - accuracy: 0.8945 - val_loss: 0.3119 - val_accuracy: 0.8818\n",
      "Epoch 16/40\n",
      "14/14 [==============================] - 0s 3ms/step - loss: 0.2969 - accuracy: 0.8945 - val_loss: 0.3103 - val_accuracy: 0.8818\n",
      "Epoch 17/40\n",
      "14/14 [==============================] - 0s 3ms/step - loss: 0.2971 - accuracy: 0.8945 - val_loss: 0.3019 - val_accuracy: 0.8818\n",
      "Epoch 18/40\n",
      "14/14 [==============================] - 0s 3ms/step - loss: 0.2927 - accuracy: 0.8945 - val_loss: 0.2984 - val_accuracy: 0.8818\n",
      "Epoch 19/40\n",
      "14/14 [==============================] - 0s 3ms/step - loss: 0.2842 - accuracy: 0.8945 - val_loss: 0.2913 - val_accuracy: 0.8818\n",
      "Epoch 20/40\n",
      "14/14 [==============================] - 0s 5ms/step - loss: 0.2800 - accuracy: 0.8945 - val_loss: 0.2852 - val_accuracy: 0.8727\n",
      "Epoch 21/40\n",
      "14/14 [==============================] - 0s 3ms/step - loss: 0.2767 - accuracy: 0.8945 - val_loss: 0.2807 - val_accuracy: 0.8727\n",
      "Epoch 22/40\n",
      "14/14 [==============================] - 0s 4ms/step - loss: 0.2765 - accuracy: 0.8968 - val_loss: 0.2774 - val_accuracy: 0.8727\n",
      "Epoch 23/40\n",
      "14/14 [==============================] - 0s 4ms/step - loss: 0.2686 - accuracy: 0.8945 - val_loss: 0.2725 - val_accuracy: 0.8727\n",
      "Epoch 24/40\n",
      "14/14 [==============================] - 0s 4ms/step - loss: 0.2651 - accuracy: 0.8945 - val_loss: 0.2672 - val_accuracy: 0.8727\n",
      "Epoch 25/40\n",
      "14/14 [==============================] - 0s 4ms/step - loss: 0.2611 - accuracy: 0.8945 - val_loss: 0.2632 - val_accuracy: 0.8727\n",
      "Epoch 26/40\n",
      "14/14 [==============================] - 0s 5ms/step - loss: 0.2575 - accuracy: 0.8945 - val_loss: 0.2600 - val_accuracy: 0.8727\n",
      "Epoch 27/40\n",
      "14/14 [==============================] - 0s 7ms/step - loss: 0.2566 - accuracy: 0.8922 - val_loss: 0.2561 - val_accuracy: 0.8818\n",
      "Epoch 28/40\n",
      "14/14 [==============================] - 0s 5ms/step - loss: 0.2513 - accuracy: 0.8922 - val_loss: 0.2536 - val_accuracy: 0.8818\n",
      "Epoch 29/40\n",
      "14/14 [==============================] - 0s 4ms/step - loss: 0.2502 - accuracy: 0.8922 - val_loss: 0.2506 - val_accuracy: 0.8818\n",
      "Epoch 30/40\n",
      "14/14 [==============================] - 0s 4ms/step - loss: 0.2494 - accuracy: 0.8922 - val_loss: 0.2470 - val_accuracy: 0.8818\n",
      "Epoch 31/40\n",
      "14/14 [==============================] - 0s 4ms/step - loss: 0.2444 - accuracy: 0.8922 - val_loss: 0.2445 - val_accuracy: 0.8818\n",
      "Epoch 32/40\n",
      "14/14 [==============================] - 0s 4ms/step - loss: 0.2424 - accuracy: 0.8945 - val_loss: 0.2420 - val_accuracy: 0.8818\n",
      "Epoch 33/40\n",
      "14/14 [==============================] - 0s 4ms/step - loss: 0.2434 - accuracy: 0.8968 - val_loss: 0.2404 - val_accuracy: 0.8818\n",
      "Epoch 34/40\n",
      "14/14 [==============================] - 0s 3ms/step - loss: 0.2376 - accuracy: 0.9037 - val_loss: 0.2383 - val_accuracy: 0.8818\n",
      "Epoch 35/40\n",
      "14/14 [==============================] - 0s 4ms/step - loss: 0.2382 - accuracy: 0.9037 - val_loss: 0.2370 - val_accuracy: 0.8818\n",
      "Epoch 36/40\n",
      "14/14 [==============================] - 0s 5ms/step - loss: 0.2393 - accuracy: 0.8968 - val_loss: 0.2368 - val_accuracy: 0.9000\n",
      "Epoch 37/40\n",
      "14/14 [==============================] - 0s 3ms/step - loss: 0.2404 - accuracy: 0.9060 - val_loss: 0.2359 - val_accuracy: 0.8818\n",
      "Epoch 38/40\n",
      "14/14 [==============================] - 0s 4ms/step - loss: 0.2318 - accuracy: 0.9083 - val_loss: 0.2365 - val_accuracy: 0.9000\n",
      "Epoch 39/40\n",
      "14/14 [==============================] - 0s 5ms/step - loss: 0.2318 - accuracy: 0.9083 - val_loss: 0.2304 - val_accuracy: 0.8818\n",
      "Epoch 40/40\n",
      "14/14 [==============================] - 0s 4ms/step - loss: 0.2319 - accuracy: 0.9037 - val_loss: 0.2344 - val_accuracy: 0.9000\n"
     ]
    },
    {
     "data": {
      "text/plain": [
       "<keras.src.callbacks.History at 0x25d43085d30>"
      ]
     },
     "execution_count": 23,
     "metadata": {},
     "output_type": "execute_result"
    }
   ],
   "source": [
    "\n",
    "# Melatih model\n",
    "model.fit(X_train, y_train, epochs=40, batch_size=32, validation_data=(X_test, y_test))"
   ]
  },
  {
   "cell_type": "code",
   "execution_count": 24,
   "id": "7d7ebdd0",
   "metadata": {},
   "outputs": [
    {
     "name": "stdout",
     "output_type": "stream",
     "text": [
      "4/4 [==============================] - 0s 3ms/step - loss: 0.2344 - accuracy: 0.9000\n",
      "Loss: 0.2343636006116867, Accuracy: 0.8999999761581421\n"
     ]
    }
   ],
   "source": [
    "# Evaluasi model\n",
    "loss, accuracy = model.evaluate(X_test, y_test)\n",
    "print(f'Loss: {loss}, Accuracy: {accuracy}')"
   ]
  }
 ],
 "metadata": {
  "kaggle": {
   "accelerator": "none",
   "dataSources": [
    {
     "datasetId": 4165933,
     "sourceId": 7201817,
     "sourceType": "datasetVersion"
    }
   ],
   "dockerImageVersionId": 30626,
   "isGpuEnabled": false,
   "isInternetEnabled": true,
   "language": "python",
   "sourceType": "notebook"
  },
  "kernelspec": {
   "display_name": "Python 3",
   "language": "python",
   "name": "python3"
  },
  "language_info": {
   "codemirror_mode": {
    "name": "ipython",
    "version": 3
   },
   "file_extension": ".py",
   "mimetype": "text/x-python",
   "name": "python",
   "nbconvert_exporter": "python",
   "pygments_lexer": "ipython3",
   "version": "3.9.2"
  },
  "papermill": {
   "default_parameters": {},
   "duration": 11.280844,
   "end_time": "2023-12-15T07:52:29.316788",
   "environment_variables": {},
   "exception": null,
   "input_path": "__notebook__.ipynb",
   "output_path": "__notebook__.ipynb",
   "parameters": {},
   "start_time": "2023-12-15T07:52:18.035944",
   "version": "2.4.0"
  }
 },
 "nbformat": 4,
 "nbformat_minor": 5
}
